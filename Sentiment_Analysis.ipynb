{
 "cells": [
  {
   "cell_type": "markdown",
   "id": "1500c3b2-2d10-4d7b-b93c-bb78020d4234",
   "metadata": {},
   "source": [
    "#pip install pandas nltk pyodbc sqlalchemy"
   ]
  },
  {
   "cell_type": "code",
   "execution_count": 56,
   "id": "4c5d39a0-2d4c-453d-a083-42e6838d2706",
   "metadata": {},
   "outputs": [],
   "source": [
    "import pandas as pd\n",
    "import pyodbc\n",
    "import nltk\n",
    "from nltk.sentiment.vader import SentimentIntensityAnalyzer"
   ]
  },
  {
   "cell_type": "markdown",
   "id": "3f39bfee-e7b8-412f-ab5c-bf49a790e8c7",
   "metadata": {},
   "source": [
    "#nltk.download('vader_lexicon')"
   ]
  },
  {
   "cell_type": "code",
   "execution_count": 65,
   "id": "d97390e8-5ba4-467b-a168-2d15738f8cbc",
   "metadata": {},
   "outputs": [],
   "source": [
    "def fetch_data_from_sql():\n",
    "    # Define the connection string with parameters for the database connection\n",
    "    conn_str = (\n",
    "        \"Driver={SQL Server};\"  # Specify the driver for SQL Server\n",
    "        \"Server=AKSKUMARI0L;\"  # Specify your SQL Server instance\n",
    "        \"Database=PortfolioProject_MarketingAnalytics;\"  # Specify the database name\n",
    "        \"Trusted_Connection=yes;\"  # Use Windows Authentication for the connection\n",
    "    )\n",
    "    # Establish the connection to the database\n",
    "    conn = pyodbc.connect(conn_str)\n",
    "    \n",
    "    # Define the SQL query to fetch customer reviews data\n",
    "    query = \"SELECT ReviewID, CustomerID, ProductID, ReviewDate, Rating, ReviewText FROM customer_reviews\"\n",
    "    \n",
    "    # Execute the query and fetch the data into a DataFrame\n",
    "    df = pd.read_sql(query, conn)\n",
    "    \n",
    "    # Close the connection to free up resources\n",
    "    conn.close()\n",
    "    \n",
    "    # Return the fetched data as a DataFrame\n",
    "    return df"
   ]
  },
  {
   "cell_type": "code",
   "execution_count": 66,
   "id": "a8f4565f-f19b-4303-89b1-0920248c2c8d",
   "metadata": {},
   "outputs": [
    {
     "name": "stderr",
     "output_type": "stream",
     "text": [
      "C:\\Users\\akskumari\\AppData\\Local\\Temp\\ipykernel_33504\\415688149.py:16: UserWarning: pandas only supports SQLAlchemy connectable (engine/connection) or database string URI or sqlite3 DBAPI2 connection. Other DBAPI2 objects are not tested. Please consider using SQLAlchemy.\n",
      "  df = pd.read_sql(query, conn)\n"
     ]
    }
   ],
   "source": [
    "customer_reviews_df = fetch_data_from_sql()"
   ]
  },
  {
   "cell_type": "code",
   "execution_count": 67,
   "id": "6129fd55-0dad-4b66-b119-6a13460342d2",
   "metadata": {},
   "outputs": [
    {
     "data": {
      "text/html": [
       "<div>\n",
       "<style scoped>\n",
       "    .dataframe tbody tr th:only-of-type {\n",
       "        vertical-align: middle;\n",
       "    }\n",
       "\n",
       "    .dataframe tbody tr th {\n",
       "        vertical-align: top;\n",
       "    }\n",
       "\n",
       "    .dataframe thead th {\n",
       "        text-align: right;\n",
       "    }\n",
       "</style>\n",
       "<table border=\"1\" class=\"dataframe\">\n",
       "  <thead>\n",
       "    <tr style=\"text-align: right;\">\n",
       "      <th></th>\n",
       "      <th>ReviewID</th>\n",
       "      <th>CustomerID</th>\n",
       "      <th>ProductID</th>\n",
       "      <th>ReviewDate</th>\n",
       "      <th>Rating</th>\n",
       "      <th>ReviewText</th>\n",
       "    </tr>\n",
       "  </thead>\n",
       "  <tbody>\n",
       "    <tr>\n",
       "      <th>0</th>\n",
       "      <td>1</td>\n",
       "      <td>77</td>\n",
       "      <td>18</td>\n",
       "      <td>2023-12-23</td>\n",
       "      <td>3</td>\n",
       "      <td>Average  experience,  nothing  special.</td>\n",
       "    </tr>\n",
       "    <tr>\n",
       "      <th>1</th>\n",
       "      <td>2</td>\n",
       "      <td>80</td>\n",
       "      <td>19</td>\n",
       "      <td>2024-12-25</td>\n",
       "      <td>5</td>\n",
       "      <td>The  quality  is    top-notch.</td>\n",
       "    </tr>\n",
       "    <tr>\n",
       "      <th>2</th>\n",
       "      <td>3</td>\n",
       "      <td>50</td>\n",
       "      <td>13</td>\n",
       "      <td>2025-01-26</td>\n",
       "      <td>4</td>\n",
       "      <td>Five  stars  for  the  quick  delivery.</td>\n",
       "    </tr>\n",
       "    <tr>\n",
       "      <th>3</th>\n",
       "      <td>4</td>\n",
       "      <td>78</td>\n",
       "      <td>15</td>\n",
       "      <td>2025-04-21</td>\n",
       "      <td>3</td>\n",
       "      <td>Good  quality,  but  could  be  cheaper.</td>\n",
       "    </tr>\n",
       "    <tr>\n",
       "      <th>4</th>\n",
       "      <td>5</td>\n",
       "      <td>64</td>\n",
       "      <td>2</td>\n",
       "      <td>2023-07-16</td>\n",
       "      <td>3</td>\n",
       "      <td>Average  experience,  nothing  special.</td>\n",
       "    </tr>\n",
       "    <tr>\n",
       "      <th>...</th>\n",
       "      <td>...</td>\n",
       "      <td>...</td>\n",
       "      <td>...</td>\n",
       "      <td>...</td>\n",
       "      <td>...</td>\n",
       "      <td>...</td>\n",
       "    </tr>\n",
       "    <tr>\n",
       "      <th>1358</th>\n",
       "      <td>1359</td>\n",
       "      <td>28</td>\n",
       "      <td>4</td>\n",
       "      <td>2023-05-25</td>\n",
       "      <td>3</td>\n",
       "      <td>Not  worth  the  money.</td>\n",
       "    </tr>\n",
       "    <tr>\n",
       "      <th>1359</th>\n",
       "      <td>1360</td>\n",
       "      <td>58</td>\n",
       "      <td>12</td>\n",
       "      <td>2023-11-13</td>\n",
       "      <td>2</td>\n",
       "      <td>Average    experience,  nothing  special.</td>\n",
       "    </tr>\n",
       "    <tr>\n",
       "      <th>1360</th>\n",
       "      <td>1361</td>\n",
       "      <td>96</td>\n",
       "      <td>15</td>\n",
       "      <td>2023-03-07</td>\n",
       "      <td>5</td>\n",
       "      <td>Customer  support  was  very  helpful.</td>\n",
       "    </tr>\n",
       "    <tr>\n",
       "      <th>1361</th>\n",
       "      <td>1362</td>\n",
       "      <td>99</td>\n",
       "      <td>2</td>\n",
       "      <td>2025-12-03</td>\n",
       "      <td>1</td>\n",
       "      <td>Product  did  not  meet  my  expectations.</td>\n",
       "    </tr>\n",
       "    <tr>\n",
       "      <th>1362</th>\n",
       "      <td>1363</td>\n",
       "      <td>16</td>\n",
       "      <td>4</td>\n",
       "      <td>2024-07-16</td>\n",
       "      <td>2</td>\n",
       "      <td>The  product  arrived  late.</td>\n",
       "    </tr>\n",
       "  </tbody>\n",
       "</table>\n",
       "<p>1363 rows × 6 columns</p>\n",
       "</div>"
      ],
      "text/plain": [
       "      ReviewID  CustomerID  ProductID  ReviewDate  Rating  \\\n",
       "0            1          77         18  2023-12-23       3   \n",
       "1            2          80         19  2024-12-25       5   \n",
       "2            3          50         13  2025-01-26       4   \n",
       "3            4          78         15  2025-04-21       3   \n",
       "4            5          64          2  2023-07-16       3   \n",
       "...        ...         ...        ...         ...     ...   \n",
       "1358      1359          28          4  2023-05-25       3   \n",
       "1359      1360          58         12  2023-11-13       2   \n",
       "1360      1361          96         15  2023-03-07       5   \n",
       "1361      1362          99          2  2025-12-03       1   \n",
       "1362      1363          16          4  2024-07-16       2   \n",
       "\n",
       "                                      ReviewText  \n",
       "0        Average  experience,  nothing  special.  \n",
       "1                 The  quality  is    top-notch.  \n",
       "2        Five  stars  for  the  quick  delivery.  \n",
       "3       Good  quality,  but  could  be  cheaper.  \n",
       "4        Average  experience,  nothing  special.  \n",
       "...                                          ...  \n",
       "1358                     Not  worth  the  money.  \n",
       "1359   Average    experience,  nothing  special.  \n",
       "1360      Customer  support  was  very  helpful.  \n",
       "1361  Product  did  not  meet  my  expectations.  \n",
       "1362                The  product  arrived  late.  \n",
       "\n",
       "[1363 rows x 6 columns]"
      ]
     },
     "execution_count": 67,
     "metadata": {},
     "output_type": "execute_result"
    }
   ],
   "source": [
    "# Fetch the customer reviews data from the SQL database\n",
    "customer_reviews_df"
   ]
  },
  {
   "cell_type": "code",
   "execution_count": 68,
   "id": "ea1df168-5a70-4c2c-ba77-c8d26b43cdf8",
   "metadata": {},
   "outputs": [],
   "source": [
    "# Initialize the VADER sentiment intensity analyzer for analyzing the sentiment of text data\n",
    "sia = SentimentIntensityAnalyzer()"
   ]
  },
  {
   "cell_type": "code",
   "execution_count": 69,
   "id": "ee28bbbd-68ba-4ec6-804f-8b237edf6fca",
   "metadata": {},
   "outputs": [],
   "source": [
    "# Define a function to calculate sentiment scores using VADER\n",
    "def calculate_sentiment(review):\n",
    "    # Get the sentiment scores for the review text\n",
    "    sentiment = sia.polarity_scores(review)\n",
    "    # Return the compound score, which is a normalized score between -1 (most negative) and 1 (most positive)\n",
    "    return sentiment['compound']"
   ]
  },
  {
   "cell_type": "code",
   "execution_count": 70,
   "id": "dfa248d3-bb6c-496d-b009-3ebf1c76a2b8",
   "metadata": {},
   "outputs": [],
   "source": [
    "# Define a function to categorize sentiment using both the sentiment score and the review rating\n",
    "def categorize_sentiment(score, rating):\n",
    "    # Use both the text sentiment score and the numerical rating to determine sentiment category\n",
    "    if score > 0.05:  # Positive sentiment score\n",
    "        if rating >= 4:\n",
    "            return 'Positive'  # High rating and positive sentiment\n",
    "        elif rating == 3:\n",
    "            return 'Mixed Positive'  # Neutral rating but positive sentiment\n",
    "        else:\n",
    "            return 'Mixed Negative'  # Low rating but positive sentiment\n",
    "    elif score < -0.05:  # Negative sentiment score\n",
    "        if rating <= 2:\n",
    "            return 'Negative'  # Low rating and negative sentiment\n",
    "        elif rating == 3:\n",
    "            return 'Mixed Negative'  # Neutral rating but negative sentiment\n",
    "        else:\n",
    "            return 'Mixed Positive'  # High rating but negative sentiment\n",
    "    else:  # Neutral sentiment score\n",
    "        if rating >= 4:\n",
    "            return 'Positive'  # High rating with neutral sentiment\n",
    "        elif rating <= 2:\n",
    "            return 'Negative'  # Low rating with neutral sentiment\n",
    "        else:\n",
    "            return 'Neutral'  # Neutral rating and neutral sentiment"
   ]
  },
  {
   "cell_type": "code",
   "execution_count": 71,
   "id": "b9225a7d-66ea-4d83-aa3a-d3b017b99cb4",
   "metadata": {},
   "outputs": [],
   "source": [
    "# Define a function to bucket sentiment scores into text ranges\n",
    "def sentiment_bucket(score):\n",
    "    if score >= 0.5:\n",
    "        return '0.5 to 1.0'  # Strongly positive sentiment\n",
    "    elif 0.0 <= score < 0.5:\n",
    "        return '0.0 to 0.49'  # Mildly positive sentiment\n",
    "    elif -0.5 <= score < 0.0:\n",
    "        return '-0.49 to 0.0'  # Mildly negative sentiment\n",
    "    else:\n",
    "        return '-1.0 to -0.5'  # Strongly negative sentiment"
   ]
  },
  {
   "cell_type": "code",
   "execution_count": 72,
   "id": "6fef282f-5823-4fb6-a3a3-9f8ab520dfd4",
   "metadata": {},
   "outputs": [],
   "source": [
    "# Apply sentiment analysis to calculate sentiment scores for each review\n",
    "customer_reviews_df['SentimentScore'] = customer_reviews_df['ReviewText'].apply(calculate_sentiment)"
   ]
  },
  {
   "cell_type": "code",
   "execution_count": 73,
   "id": "c8bd939e-4632-471d-b220-8e7b7508c05a",
   "metadata": {},
   "outputs": [],
   "source": [
    "# Apply sentiment categorization using both text and rating\n",
    "customer_reviews_df['SentimentCategory'] = customer_reviews_df.apply(\n",
    "    lambda row: categorize_sentiment(row['SentimentScore'], row['Rating']), axis=1)"
   ]
  },
  {
   "cell_type": "code",
   "execution_count": 74,
   "id": "40523782-e5b1-4c64-8518-5c1f13e4b09a",
   "metadata": {},
   "outputs": [],
   "source": [
    "# Apply sentiment bucketing to categorize scores into defined ranges\n",
    "customer_reviews_df['SentimentBucket'] = customer_reviews_df['SentimentScore'].apply(sentiment_bucket)"
   ]
  },
  {
   "cell_type": "code",
   "execution_count": 75,
   "id": "26da5a72-a780-410b-9d95-6e99e5a82f68",
   "metadata": {},
   "outputs": [
    {
     "name": "stdout",
     "output_type": "stream",
     "text": [
      "   ReviewID  CustomerID  ProductID  ReviewDate  Rating  \\\n",
      "0         1          77         18  2023-12-23       3   \n",
      "1         2          80         19  2024-12-25       5   \n",
      "2         3          50         13  2025-01-26       4   \n",
      "3         4          78         15  2025-04-21       3   \n",
      "4         5          64          2  2023-07-16       3   \n",
      "\n",
      "                                 ReviewText  SentimentScore SentimentCategory  \\\n",
      "0   Average  experience,  nothing  special.         -0.3089    Mixed Negative   \n",
      "1            The  quality  is    top-notch.          0.0000          Positive   \n",
      "2   Five  stars  for  the  quick  delivery.          0.0000          Positive   \n",
      "3  Good  quality,  but  could  be  cheaper.          0.2382    Mixed Positive   \n",
      "4   Average  experience,  nothing  special.         -0.3089    Mixed Negative   \n",
      "\n",
      "  SentimentBucket  \n",
      "0    -0.49 to 0.0  \n",
      "1     0.0 to 0.49  \n",
      "2     0.0 to 0.49  \n",
      "3     0.0 to 0.49  \n",
      "4    -0.49 to 0.0  \n"
     ]
    }
   ],
   "source": [
    "# Display the first few rows of the DataFrame with sentiment scores, categories, and buckets\n",
    "print(customer_reviews_df.head())"
   ]
  },
  {
   "cell_type": "code",
   "execution_count": 76,
   "id": "edaa61a3-9e63-4945-8892-abc5101f0f13",
   "metadata": {},
   "outputs": [],
   "source": [
    "# Save the DataFrame with sentiment scores, categories, and buckets to a new CSV file\n",
    "customer_reviews_df.to_csv('fact_customer_reviews_with_sentiment.csv', index=False)"
   ]
  }
 ],
 "metadata": {
  "kernelspec": {
   "display_name": "Python 3 (ipykernel)",
   "language": "python",
   "name": "python3"
  },
  "language_info": {
   "codemirror_mode": {
    "name": "ipython",
    "version": 3
   },
   "file_extension": ".py",
   "mimetype": "text/x-python",
   "name": "python",
   "nbconvert_exporter": "python",
   "pygments_lexer": "ipython3",
   "version": "3.10.0"
  }
 },
 "nbformat": 4,
 "nbformat_minor": 5
}
